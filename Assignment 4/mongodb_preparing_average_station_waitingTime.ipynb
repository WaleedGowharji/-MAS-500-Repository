{
 "metadata": {
  "name": "",
  "signature": "sha256:963df8ba93478a1cb460561d1844471fbc8ca2b20575ba153e1afc49a14dfce2"
 },
 "nbformat": 3,
 "nbformat_minor": 0,
 "worksheets": [
  {
   "cells": [
    {
     "cell_type": "code",
     "collapsed": false,
     "input": [
      "import networkx as nx\n",
      "import matplotlib.pyplot as plt\n",
      "import numpy as np\n",
      "import pandas as pd\n",
      "import seaborn as sns\n",
      "import scipy.stats as stats\n",
      "import pymongo\n",
      "import powerlaw\n",
      "from datetime import datetime, date, time\n",
      "from datetime import timedelta\n",
      "from math import radians, cos, sin, asin, sqrt\n",
      "sns.set()\n",
      "from pymongo import MongoClient\n",
      "from scipy.stats.stats import pearsonr  \n",
      "%matplotlib inline"
     ],
     "language": "python",
     "metadata": {},
     "outputs": [],
     "prompt_number": 40
    },
    {
     "cell_type": "code",
     "collapsed": false,
     "input": [
      "data = pd.read_csv('/Users/waleedgowharji/final_project_marta/hubway_trips.csv')\n",
      "data['start_date'] = pd.to_datetime(data['start_date'])\n",
      "data['end_date'] = pd.to_datetime(data['end_date'])\n",
      "data = data[data.start_date>= datetime(2013,1,1)]"
     ],
     "language": "python",
     "metadata": {},
     "outputs": [],
     "prompt_number": 15
    },
    {
     "cell_type": "code",
     "collapsed": false,
     "input": [
      "client = MongoClient()\n",
      "db = client['marta_final_project']\n",
      "collection = db['hub_way']"
     ],
     "language": "python",
     "metadata": {},
     "outputs": [],
     "prompt_number": 17
    },
    {
     "cell_type": "code",
     "collapsed": false,
     "input": [
      "#for i,row in data.iterrows():\n",
      "#    to_insert = {'seq_id':row['seq_id'],\n",
      "#                'hubway_id':row['hubway_id'],\n",
      "#                'duration':row['duration'],\n",
      "#                'start_date':row['start_date'],\n",
      "#                'strt_statn':row['strt_statn'],\n",
      "#                'end_date':row['end_date'],\n",
      "#                'end_statn':row['end_statn'],\n",
      "#                'bike_nr':row['bike_nr'],\n",
      "#                'subsc_type':row['subsc_type'],\n",
      "#                'gender':row['gender']}\n",
      "#    collection.insert(to_insert)"
     ],
     "language": "python",
     "metadata": {},
     "outputs": [],
     "prompt_number": 18
    },
    {
     "cell_type": "code",
     "collapsed": false,
     "input": [
      "#previous_station = None\n",
      "#count = 0\n",
      "#for i,row in data.iterrows():\n",
      "#    current_station = row['strt_statn']\n",
      "#    if current_station == previous_station:\n",
      "#        current_bike = row['bike_nr']\n",
      "#        if current_bike == previous_bike:\n",
      "#            bike_dt = row['end_date']- start_date\n",
      "#            print 'I am station : ',current_station\n",
      "#            print 'Bike : ',current_bike, 'came on : ',start_date, ' and left on: ',row['end_date']\n",
      "#            print 'It waited for: ', bike_dt\n",
      "#            print ' --------------'\n",
      "#            previous_bike = current_bike\n",
      "#        else:\n",
      "#            start_date = row['start_date']\n",
      "#            previous_bike = current_bike\n",
      "#    else:\n",
      "#        previous_station = current_station\n",
      "#        previous_bike = row['bike_nr']\n",
      "#        start_date = row['start_date']\n",
      "#    count+=1\n",
      "#    if count == 100:\n",
      "#        break\n",
      "#collection.ensureIndex({\"\":1})"
     ],
     "language": "python",
     "metadata": {},
     "outputs": [],
     "prompt_number": 19
    },
    {
     "cell_type": "code",
     "collapsed": false,
     "input": [
      "stations = collection.distinct('strt_statn')"
     ],
     "language": "python",
     "metadata": {},
     "outputs": [],
     "prompt_number": 20
    },
    {
     "cell_type": "code",
     "collapsed": false,
     "input": [
      "stations_waiting = {}\n",
      "n = 0\n",
      "for station in stations:\n",
      "    n+=1\n",
      "    #bikes = collection.find({'strt_statn':station}).distinct('bike_nr')\n",
      "    stations_waiting[station] = []\n",
      "    bikes = collection.find({\"$or\": [{'strt_statn':station},{'end_statn':station}]}).distinct('bike_nr')\n",
      "    for bike in bikes:\n",
      "        arrived = list(collection.find({'end_statn':station,'bike_nr':bike,\n",
      "                                        'duration':{'$gt':0}}).sort('end_date'))\n",
      "        left = list(collection.find({'strt_statn':station,'bike_nr':bike,\n",
      "                                     'duration':{'$gt':0}}).sort('start_date',pymongo.ASCENDING))\n",
      "        if len(arrived) == len(left):\n",
      "            for arrived_instance,left_instance in zip(arrived,left):\n",
      "                dt = left_instance['start_date'] - arrived_instance['end_date']\n",
      "                if dt.total_seconds()>0:\n",
      "                    temp_list = stations_waiting[station]\n",
      "                    temp_list.append(dt.total_seconds())\n",
      "                    stations_waiting[station] = temp_list\n",
      "    print 'done with ', n,' stations'"
     ],
     "language": "python",
     "metadata": {},
     "outputs": [
      {
       "output_type": "stream",
       "stream": "stdout",
       "text": [
        "done with  1  stations\n",
        "done with "
       ]
      },
      {
       "output_type": "stream",
       "stream": "stdout",
       "text": [
        " 2  stations\n",
        "done with "
       ]
      },
      {
       "output_type": "stream",
       "stream": "stdout",
       "text": [
        " 3  stations\n",
        "done with "
       ]
      },
      {
       "output_type": "stream",
       "stream": "stdout",
       "text": [
        " 4  stations\n",
        "done with "
       ]
      },
      {
       "output_type": "stream",
       "stream": "stdout",
       "text": [
        " 5  stations\n",
        "done with "
       ]
      },
      {
       "output_type": "stream",
       "stream": "stdout",
       "text": [
        " 6  stations\n",
        "done with "
       ]
      },
      {
       "output_type": "stream",
       "stream": "stdout",
       "text": [
        " 7  stations\n",
        "done with "
       ]
      },
      {
       "output_type": "stream",
       "stream": "stdout",
       "text": [
        " 8  stations\n",
        "done with "
       ]
      },
      {
       "output_type": "stream",
       "stream": "stdout",
       "text": [
        " 9  stations\n",
        "done with "
       ]
      },
      {
       "output_type": "stream",
       "stream": "stdout",
       "text": [
        " 10  stations\n",
        "done with "
       ]
      },
      {
       "output_type": "stream",
       "stream": "stdout",
       "text": [
        " 11  stations\n",
        "done with "
       ]
      },
      {
       "output_type": "stream",
       "stream": "stdout",
       "text": [
        " 12  stations\n",
        "done with "
       ]
      },
      {
       "output_type": "stream",
       "stream": "stdout",
       "text": [
        " 13  stations\n",
        "done with "
       ]
      },
      {
       "output_type": "stream",
       "stream": "stdout",
       "text": [
        " 14  stations\n",
        "done with "
       ]
      },
      {
       "output_type": "stream",
       "stream": "stdout",
       "text": [
        " 15  stations\n",
        "done with "
       ]
      },
      {
       "output_type": "stream",
       "stream": "stdout",
       "text": [
        " 16  stations\n",
        "done with "
       ]
      },
      {
       "output_type": "stream",
       "stream": "stdout",
       "text": [
        " 17  stations\n",
        "done with "
       ]
      },
      {
       "output_type": "stream",
       "stream": "stdout",
       "text": [
        " 18  stations\n",
        "done with "
       ]
      },
      {
       "output_type": "stream",
       "stream": "stdout",
       "text": [
        " 19  stations\n",
        "done with "
       ]
      },
      {
       "output_type": "stream",
       "stream": "stdout",
       "text": [
        " 20  stations\n",
        "done with "
       ]
      },
      {
       "output_type": "stream",
       "stream": "stdout",
       "text": [
        " 21  stations\n",
        "done with "
       ]
      },
      {
       "output_type": "stream",
       "stream": "stdout",
       "text": [
        " 22  stations\n",
        "done with "
       ]
      },
      {
       "output_type": "stream",
       "stream": "stdout",
       "text": [
        " 23  stations\n",
        "done with "
       ]
      },
      {
       "output_type": "stream",
       "stream": "stdout",
       "text": [
        " 24  stations\n",
        "done with "
       ]
      },
      {
       "output_type": "stream",
       "stream": "stdout",
       "text": [
        " 25  stations\n",
        "done with "
       ]
      },
      {
       "output_type": "stream",
       "stream": "stdout",
       "text": [
        " 26  stations\n",
        "done with "
       ]
      },
      {
       "output_type": "stream",
       "stream": "stdout",
       "text": [
        " 27  stations\n",
        "done with "
       ]
      },
      {
       "output_type": "stream",
       "stream": "stdout",
       "text": [
        " 28  stations\n",
        "done with "
       ]
      },
      {
       "output_type": "stream",
       "stream": "stdout",
       "text": [
        " 29  stations\n",
        "done with "
       ]
      },
      {
       "output_type": "stream",
       "stream": "stdout",
       "text": [
        " 30  stations\n",
        "done with "
       ]
      },
      {
       "output_type": "stream",
       "stream": "stdout",
       "text": [
        " 31  stations\n",
        "done with "
       ]
      },
      {
       "output_type": "stream",
       "stream": "stdout",
       "text": [
        " 32  stations\n",
        "done with "
       ]
      },
      {
       "output_type": "stream",
       "stream": "stdout",
       "text": [
        " 33  stations\n",
        "done with "
       ]
      },
      {
       "output_type": "stream",
       "stream": "stdout",
       "text": [
        " 34  stations\n",
        "done with "
       ]
      },
      {
       "output_type": "stream",
       "stream": "stdout",
       "text": [
        " 35  stations\n",
        "done with "
       ]
      },
      {
       "output_type": "stream",
       "stream": "stdout",
       "text": [
        " 36  stations\n",
        "done with "
       ]
      },
      {
       "output_type": "stream",
       "stream": "stdout",
       "text": [
        " 37  stations\n",
        "done with "
       ]
      },
      {
       "output_type": "stream",
       "stream": "stdout",
       "text": [
        " 38  stations\n",
        "done with "
       ]
      },
      {
       "output_type": "stream",
       "stream": "stdout",
       "text": [
        " 39  stations\n",
        "done with "
       ]
      },
      {
       "output_type": "stream",
       "stream": "stdout",
       "text": [
        " 40  stations\n",
        "done with "
       ]
      },
      {
       "output_type": "stream",
       "stream": "stdout",
       "text": [
        " 41  stations\n",
        "done with "
       ]
      },
      {
       "output_type": "stream",
       "stream": "stdout",
       "text": [
        " 42  stations\n",
        "done with "
       ]
      },
      {
       "output_type": "stream",
       "stream": "stdout",
       "text": [
        " 43  stations\n",
        "done with "
       ]
      },
      {
       "output_type": "stream",
       "stream": "stdout",
       "text": [
        " 44  stations\n",
        "done with "
       ]
      },
      {
       "output_type": "stream",
       "stream": "stdout",
       "text": [
        " 45  stations\n",
        "done with "
       ]
      },
      {
       "output_type": "stream",
       "stream": "stdout",
       "text": [
        " 46  stations\n",
        "done with "
       ]
      },
      {
       "output_type": "stream",
       "stream": "stdout",
       "text": [
        " 47  stations\n",
        "done with "
       ]
      },
      {
       "output_type": "stream",
       "stream": "stdout",
       "text": [
        " 48  stations\n",
        "done with "
       ]
      },
      {
       "output_type": "stream",
       "stream": "stdout",
       "text": [
        " 49  stations\n",
        "done with "
       ]
      },
      {
       "output_type": "stream",
       "stream": "stdout",
       "text": [
        " 50  stations\n",
        "done with "
       ]
      },
      {
       "output_type": "stream",
       "stream": "stdout",
       "text": [
        " 51  stations\n",
        "done with "
       ]
      },
      {
       "output_type": "stream",
       "stream": "stdout",
       "text": [
        " 52  stations\n",
        "done with "
       ]
      },
      {
       "output_type": "stream",
       "stream": "stdout",
       "text": [
        " 53  stations\n",
        "done with "
       ]
      },
      {
       "output_type": "stream",
       "stream": "stdout",
       "text": [
        " 54  stations\n",
        "done with "
       ]
      },
      {
       "output_type": "stream",
       "stream": "stdout",
       "text": [
        " 55  stations\n",
        "done with "
       ]
      },
      {
       "output_type": "stream",
       "stream": "stdout",
       "text": [
        " 56  stations\n",
        "done with "
       ]
      },
      {
       "output_type": "stream",
       "stream": "stdout",
       "text": [
        " 57  stations\n",
        "done with "
       ]
      },
      {
       "output_type": "stream",
       "stream": "stdout",
       "text": [
        " 58  stations\n",
        "done with "
       ]
      },
      {
       "output_type": "stream",
       "stream": "stdout",
       "text": [
        " 59  stations\n",
        "done with "
       ]
      },
      {
       "output_type": "stream",
       "stream": "stdout",
       "text": [
        " 60  stations\n",
        "done with "
       ]
      },
      {
       "output_type": "stream",
       "stream": "stdout",
       "text": [
        " 61  stations\n",
        "done with "
       ]
      },
      {
       "output_type": "stream",
       "stream": "stdout",
       "text": [
        " 62  stations\n",
        "done with "
       ]
      },
      {
       "output_type": "stream",
       "stream": "stdout",
       "text": [
        " 63  stations\n",
        "done with "
       ]
      },
      {
       "output_type": "stream",
       "stream": "stdout",
       "text": [
        " 64  stations\n",
        "done with "
       ]
      },
      {
       "output_type": "stream",
       "stream": "stdout",
       "text": [
        " 65  stations\n",
        "done with "
       ]
      },
      {
       "output_type": "stream",
       "stream": "stdout",
       "text": [
        " 66  stations\n",
        "done with "
       ]
      },
      {
       "output_type": "stream",
       "stream": "stdout",
       "text": [
        " 67  stations\n",
        "done with "
       ]
      },
      {
       "output_type": "stream",
       "stream": "stdout",
       "text": [
        " 68  stations\n",
        "done with "
       ]
      },
      {
       "output_type": "stream",
       "stream": "stdout",
       "text": [
        " 69  stations\n",
        "done with "
       ]
      },
      {
       "output_type": "stream",
       "stream": "stdout",
       "text": [
        " 70  stations\n",
        "done with "
       ]
      },
      {
       "output_type": "stream",
       "stream": "stdout",
       "text": [
        " 71  stations\n",
        "done with "
       ]
      },
      {
       "output_type": "stream",
       "stream": "stdout",
       "text": [
        " 72  stations\n",
        "done with "
       ]
      },
      {
       "output_type": "stream",
       "stream": "stdout",
       "text": [
        " 73  stations\n",
        "done with "
       ]
      },
      {
       "output_type": "stream",
       "stream": "stdout",
       "text": [
        " 74  stations\n",
        "done with "
       ]
      },
      {
       "output_type": "stream",
       "stream": "stdout",
       "text": [
        " 75  stations\n",
        "done with "
       ]
      },
      {
       "output_type": "stream",
       "stream": "stdout",
       "text": [
        " 76  stations\n",
        "done with "
       ]
      },
      {
       "output_type": "stream",
       "stream": "stdout",
       "text": [
        " 77  stations\n",
        "done with "
       ]
      },
      {
       "output_type": "stream",
       "stream": "stdout",
       "text": [
        " 78  stations\n",
        "done with "
       ]
      },
      {
       "output_type": "stream",
       "stream": "stdout",
       "text": [
        " 79  stations\n",
        "done with "
       ]
      },
      {
       "output_type": "stream",
       "stream": "stdout",
       "text": [
        " 80  stations\n",
        "done with "
       ]
      },
      {
       "output_type": "stream",
       "stream": "stdout",
       "text": [
        " 81  stations\n",
        "done with "
       ]
      },
      {
       "output_type": "stream",
       "stream": "stdout",
       "text": [
        " 82  stations\n",
        "done with "
       ]
      },
      {
       "output_type": "stream",
       "stream": "stdout",
       "text": [
        " 83  stations\n",
        "done with "
       ]
      },
      {
       "output_type": "stream",
       "stream": "stdout",
       "text": [
        " 84  stations\n",
        "done with "
       ]
      },
      {
       "output_type": "stream",
       "stream": "stdout",
       "text": [
        " 85  stations\n",
        "done with "
       ]
      },
      {
       "output_type": "stream",
       "stream": "stdout",
       "text": [
        " 86  stations\n",
        "done with "
       ]
      },
      {
       "output_type": "stream",
       "stream": "stdout",
       "text": [
        " 87  stations\n",
        "done with "
       ]
      },
      {
       "output_type": "stream",
       "stream": "stdout",
       "text": [
        " 88  stations\n",
        "done with "
       ]
      },
      {
       "output_type": "stream",
       "stream": "stdout",
       "text": [
        " 89  stations\n",
        "done with "
       ]
      },
      {
       "output_type": "stream",
       "stream": "stdout",
       "text": [
        " 90  stations\n",
        "done with "
       ]
      },
      {
       "output_type": "stream",
       "stream": "stdout",
       "text": [
        " 91  stations\n",
        "done with "
       ]
      },
      {
       "output_type": "stream",
       "stream": "stdout",
       "text": [
        " 92  stations\n",
        "done with "
       ]
      },
      {
       "output_type": "stream",
       "stream": "stdout",
       "text": [
        " 93  stations\n",
        "done with "
       ]
      },
      {
       "output_type": "stream",
       "stream": "stdout",
       "text": [
        " 94  stations\n",
        "done with "
       ]
      },
      {
       "output_type": "stream",
       "stream": "stdout",
       "text": [
        " 95  stations\n",
        "done with "
       ]
      },
      {
       "output_type": "stream",
       "stream": "stdout",
       "text": [
        " 96  stations\n",
        "done with "
       ]
      },
      {
       "output_type": "stream",
       "stream": "stdout",
       "text": [
        " 97  stations\n",
        "done with "
       ]
      },
      {
       "output_type": "stream",
       "stream": "stdout",
       "text": [
        " 98  stations\n",
        "done with "
       ]
      },
      {
       "output_type": "stream",
       "stream": "stdout",
       "text": [
        " 99  stations\n",
        "done with "
       ]
      },
      {
       "output_type": "stream",
       "stream": "stdout",
       "text": [
        " 100  stations\n",
        "done with "
       ]
      },
      {
       "output_type": "stream",
       "stream": "stdout",
       "text": [
        " 101  stations\n",
        "done with "
       ]
      },
      {
       "output_type": "stream",
       "stream": "stdout",
       "text": [
        " 102  stations\n",
        "done with "
       ]
      },
      {
       "output_type": "stream",
       "stream": "stdout",
       "text": [
        " 103  stations\n",
        "done with "
       ]
      },
      {
       "output_type": "stream",
       "stream": "stdout",
       "text": [
        " 104  stations\n",
        "done with "
       ]
      },
      {
       "output_type": "stream",
       "stream": "stdout",
       "text": [
        " 105  stations\n",
        "done with "
       ]
      },
      {
       "output_type": "stream",
       "stream": "stdout",
       "text": [
        " 106  stations\n",
        "done with "
       ]
      },
      {
       "output_type": "stream",
       "stream": "stdout",
       "text": [
        " 107  stations\n",
        "done with "
       ]
      },
      {
       "output_type": "stream",
       "stream": "stdout",
       "text": [
        " 108  stations\n",
        "done with "
       ]
      },
      {
       "output_type": "stream",
       "stream": "stdout",
       "text": [
        " 109  stations\n",
        "done with "
       ]
      },
      {
       "output_type": "stream",
       "stream": "stdout",
       "text": [
        " 110  stations\n",
        "done with "
       ]
      },
      {
       "output_type": "stream",
       "stream": "stdout",
       "text": [
        " 111  stations\n",
        "done with "
       ]
      },
      {
       "output_type": "stream",
       "stream": "stdout",
       "text": [
        " 112  stations\n",
        "done with "
       ]
      },
      {
       "output_type": "stream",
       "stream": "stdout",
       "text": [
        " 113  stations\n",
        "done with "
       ]
      },
      {
       "output_type": "stream",
       "stream": "stdout",
       "text": [
        " 114  stations\n",
        "done with "
       ]
      },
      {
       "output_type": "stream",
       "stream": "stdout",
       "text": [
        " 115  stations\n",
        "done with "
       ]
      },
      {
       "output_type": "stream",
       "stream": "stdout",
       "text": [
        " 116  stations\n",
        "done with "
       ]
      },
      {
       "output_type": "stream",
       "stream": "stdout",
       "text": [
        " 117  stations\n",
        "done with "
       ]
      },
      {
       "output_type": "stream",
       "stream": "stdout",
       "text": [
        " 118  stations\n",
        "done with "
       ]
      },
      {
       "output_type": "stream",
       "stream": "stdout",
       "text": [
        " 119  stations\n",
        "done with "
       ]
      },
      {
       "output_type": "stream",
       "stream": "stdout",
       "text": [
        " 120  stations\n",
        "done with "
       ]
      },
      {
       "output_type": "stream",
       "stream": "stdout",
       "text": [
        " 121  stations\n",
        "done with "
       ]
      },
      {
       "output_type": "stream",
       "stream": "stdout",
       "text": [
        " 122  stations\n",
        "done with "
       ]
      },
      {
       "output_type": "stream",
       "stream": "stdout",
       "text": [
        " 123  stations\n",
        "done with "
       ]
      },
      {
       "output_type": "stream",
       "stream": "stdout",
       "text": [
        " 124  stations\n",
        "done with "
       ]
      },
      {
       "output_type": "stream",
       "stream": "stdout",
       "text": [
        " 125  stations\n",
        "done with "
       ]
      },
      {
       "output_type": "stream",
       "stream": "stdout",
       "text": [
        " 126  stations\n",
        "done with "
       ]
      },
      {
       "output_type": "stream",
       "stream": "stdout",
       "text": [
        " 127  stations\n",
        "done with "
       ]
      },
      {
       "output_type": "stream",
       "stream": "stdout",
       "text": [
        " 128  stations\n",
        "done with "
       ]
      },
      {
       "output_type": "stream",
       "stream": "stdout",
       "text": [
        " 129  stations\n",
        "done with "
       ]
      },
      {
       "output_type": "stream",
       "stream": "stdout",
       "text": [
        " 130  stations\n",
        "done with "
       ]
      },
      {
       "output_type": "stream",
       "stream": "stdout",
       "text": [
        " 131  stations\n"
       ]
      }
     ],
     "prompt_number": 61
    },
    {
     "cell_type": "code",
     "collapsed": false,
     "input": [
      "to_insert_in_db = {}\n",
      "for name,value in zip(stations_waiting.keys(),stations_waiting.values()):\n",
      "    try:\n",
      "        db['waiting_times'].insert({'station_number':int(name), 'mean':np.array(value).mean(),'std':np.array(value).std(),'values':value})\n",
      "    except:\n",
      "        pass"
     ],
     "language": "python",
     "metadata": {},
     "outputs": [],
     "prompt_number": 84
    },
    {
     "cell_type": "code",
     "collapsed": false,
     "input": [],
     "language": "python",
     "metadata": {},
     "outputs": [
      {
       "metadata": {},
       "output_type": "pyout",
       "prompt_number": 79,
       "text": [
        "{'mean': 128405.68781183178,\n",
        " 'std': 605260.51530798269,\n",
        " 'values': [4320.0,\n",
        "  3660.0,\n",
        "  1140.0,\n",
        "  27540.0,\n",
        "  159780.0,\n",
        "  41280.0,\n",
        "  67860.0,\n",
        "  240.0,\n",
        "  27360.0,\n",
        "  4020.0,\n",
        "  71280.0,\n",
        "  242700.0,\n",
        "  120.0,\n",
        "  58380.0,\n",
        "  12960.0,\n",
        "  10260.0,\n",
        "  120.0,\n",
        "  6960.0,\n",
        "  38700.0,\n",
        "  10380.0,\n",
        "  3300.0,\n",
        "  960.0,\n",
        "  11400.0,\n",
        "  87480.0,\n",
        "  300.0,\n",
        "  240.0,\n",
        "  19200.0,\n",
        "  28380.0,\n",
        "  33960.0,\n",
        "  53580.0,\n",
        "  1278720.0,\n",
        "  1620.0,\n",
        "  81780.0,\n",
        "  51960.0,\n",
        "  47400.0,\n",
        "  1020.0,\n",
        "  35700.0,\n",
        "  65400.0,\n",
        "  1080.0,\n",
        "  2400.0,\n",
        "  54780.0,\n",
        "  900.0,\n",
        "  60540.0,\n",
        "  1260.0,\n",
        "  53760.0,\n",
        "  30120.0,\n",
        "  1560.0,\n",
        "  180.0,\n",
        "  4740.0,\n",
        "  720.0,\n",
        "  45600.0,\n",
        "  39120.0,\n",
        "  49320.0,\n",
        "  11040.0,\n",
        "  42420.0,\n",
        "  50040.0,\n",
        "  4500.0,\n",
        "  12780.0,\n",
        "  48840.0,\n",
        "  6420.0,\n",
        "  6600.0,\n",
        "  5640.0,\n",
        "  134700.0,\n",
        "  216540.0,\n",
        "  71940.0,\n",
        "  1980.0,\n",
        "  33780.0,\n",
        "  52860.0,\n",
        "  120.0,\n",
        "  840.0,\n",
        "  59640.0,\n",
        "  8340.0,\n",
        "  142020.0,\n",
        "  44100.0,\n",
        "  4680.0,\n",
        "  33600.0,\n",
        "  75360.0,\n",
        "  1200.0,\n",
        "  28440.0,\n",
        "  103620.0,\n",
        "  30180.0,\n",
        "  5160.0,\n",
        "  167340.0,\n",
        "  126360.0,\n",
        "  7620.0,\n",
        "  28980.0,\n",
        "  41220.0,\n",
        "  12780.0,\n",
        "  47160.0,\n",
        "  48600.0,\n",
        "  3480.0,\n",
        "  44100.0,\n",
        "  57900.0,\n",
        "  3900.0,\n",
        "  77820.0,\n",
        "  138060.0,\n",
        "  121320.0,\n",
        "  139260.0,\n",
        "  1800.0,\n",
        "  480.0,\n",
        "  19320.0,\n",
        "  45420.0,\n",
        "  480.0,\n",
        "  43320.0,\n",
        "  29700.0,\n",
        "  44580.0,\n",
        "  25020.0,\n",
        "  47280.0,\n",
        "  64140.0,\n",
        "  53880.0,\n",
        "  53340.0,\n",
        "  49320.0,\n",
        "  35040.0,\n",
        "  39180.0,\n",
        "  37800.0,\n",
        "  45240.0,\n",
        "  7140.0,\n",
        "  41640.0,\n",
        "  64260.0,\n",
        "  11160.0,\n",
        "  47460.0,\n",
        "  27300.0,\n",
        "  44160.0,\n",
        "  31860.0,\n",
        "  51000.0,\n",
        "  1560.0,\n",
        "  68760.0,\n",
        "  42060.0,\n",
        "  41280.0,\n",
        "  1740.0,\n",
        "  120.0,\n",
        "  39120.0,\n",
        "  36960.0,\n",
        "  85020.0,\n",
        "  45960.0,\n",
        "  41400.0,\n",
        "  6900.0,\n",
        "  44820.0,\n",
        "  1620.0,\n",
        "  14340.0,\n",
        "  63420.0,\n",
        "  3900.0,\n",
        "  52740.0,\n",
        "  300.0,\n",
        "  1383840.0,\n",
        "  2408880.0,\n",
        "  2569440.0,\n",
        "  3106560.0,\n",
        "  241920.0,\n",
        "  57900.0,\n",
        "  4260.0,\n",
        "  98460.0,\n",
        "  3540.0,\n",
        "  3720.0,\n",
        "  48480.0,\n",
        "  3840.0,\n",
        "  32040.0,\n",
        "  1020.0,\n",
        "  48360.0,\n",
        "  127920.0,\n",
        "  540.0,\n",
        "  1440.0,\n",
        "  75300.0,\n",
        "  68760.0,\n",
        "  8880.0,\n",
        "  2880.0,\n",
        "  136860.0,\n",
        "  38160.0,\n",
        "  42660.0,\n",
        "  62220.0,\n",
        "  7980.0,\n",
        "  29340.0,\n",
        "  64800.0,\n",
        "  169860.0,\n",
        "  38880.0,\n",
        "  52920.0,\n",
        "  44640.0,\n",
        "  48360.0,\n",
        "  1140.0,\n",
        "  200460.0,\n",
        "  46620.0,\n",
        "  540.0,\n",
        "  51000.0,\n",
        "  9120.0,\n",
        "  16500.0,\n",
        "  37740.0,\n",
        "  39840.0,\n",
        "  63960.0,\n",
        "  139320.0,\n",
        "  5700.0,\n",
        "  9900.0,\n",
        "  57060.0,\n",
        "  77940.0,\n",
        "  36420.0,\n",
        "  50700.0,\n",
        "  7440.0,\n",
        "  46560.0,\n",
        "  101340.0,\n",
        "  7260.0,\n",
        "  1500.0,\n",
        "  45840.0,\n",
        "  3180.0,\n",
        "  3600.0,\n",
        "  1260.0,\n",
        "  17880.0,\n",
        "  1680.0,\n",
        "  45720.0,\n",
        "  56880.0,\n",
        "  37440.0,\n",
        "  101100.0,\n",
        "  2700.0,\n",
        "  75060.0,\n",
        "  3120.0,\n",
        "  2400.0,\n",
        "  10320.0,\n",
        "  51420.0,\n",
        "  64020.0,\n",
        "  3600.0,\n",
        "  14100.0,\n",
        "  12960.0,\n",
        "  4740.0,\n",
        "  48120.0,\n",
        "  3420.0,\n",
        "  1200.0,\n",
        "  36180.0,\n",
        "  14280.0,\n",
        "  31020.0,\n",
        "  1860.0,\n",
        "  45720.0,\n",
        "  420.0,\n",
        "  17520.0,\n",
        "  15360.0,\n",
        "  49620.0,\n",
        "  10740.0,\n",
        "  2820.0,\n",
        "  45420.0,\n",
        "  43080.0,\n",
        "  50400.0,\n",
        "  1786080.0,\n",
        "  3144720.0,\n",
        "  3262500.0,\n",
        "  18660.0,\n",
        "  36000.0,\n",
        "  66780.0,\n",
        "  780.0,\n",
        "  4440.0,\n",
        "  39660.0,\n",
        "  78540.0,\n",
        "  50220.0,\n",
        "  41100.0,\n",
        "  17580.0,\n",
        "  31980.0,\n",
        "  53700.0,\n",
        "  720.0,\n",
        "  67860.0,\n",
        "  15720.0,\n",
        "  2280.0,\n",
        "  39960.0,\n",
        "  47280.0,\n",
        "  52080.0,\n",
        "  45360.0,\n",
        "  27060.0,\n",
        "  62280.0,\n",
        "  49080.0,\n",
        "  52020.0,\n",
        "  19860.0,\n",
        "  600.0,\n",
        "  35040.0,\n",
        "  120.0,\n",
        "  35940.0,\n",
        "  4380.0,\n",
        "  3960.0,\n",
        "  53280.0,\n",
        "  15960.0,\n",
        "  46020.0,\n",
        "  120.0,\n",
        "  40440.0,\n",
        "  4380.0,\n",
        "  180.0,\n",
        "  48540.0,\n",
        "  1440.0,\n",
        "  51000.0,\n",
        "  1320.0,\n",
        "  45720.0,\n",
        "  42720.0,\n",
        "  47160.0,\n",
        "  540.0,\n",
        "  51060.0,\n",
        "  60120.0,\n",
        "  247740.0,\n",
        "  480.0,\n",
        "  44220.0,\n",
        "  55920.0,\n",
        "  54180.0,\n",
        "  35100.0,\n",
        "  37260.0,\n",
        "  1860.0,\n",
        "  60.0,\n",
        "  420.0,\n",
        "  59580.0,\n",
        "  33840.0,\n",
        "  9780.0,\n",
        "  780.0,\n",
        "  2460.0,\n",
        "  480.0,\n",
        "  45300.0,\n",
        "  1380.0,\n",
        "  360.0,\n",
        "  71400.0,\n",
        "  150120.0,\n",
        "  36240.0,\n",
        "  12660.0,\n",
        "  240.0,\n",
        "  47280.0,\n",
        "  720.0,\n",
        "  240.0,\n",
        "  47520.0,\n",
        "  10200.0,\n",
        "  1080.0,\n",
        "  6780.0,\n",
        "  4440.0,\n",
        "  6660.0,\n",
        "  12360.0,\n",
        "  840.0,\n",
        "  19020.0,\n",
        "  42000.0,\n",
        "  2400.0,\n",
        "  2460.0,\n",
        "  4136940.0,\n",
        "  59940.0,\n",
        "  32160.0,\n",
        "  5880.0,\n",
        "  605760.0,\n",
        "  6491520.0,\n",
        "  2343360.0,\n",
        "  10980.0,\n",
        "  1982520.0,\n",
        "  1740.0,\n",
        "  47880.0,\n",
        "  2580.0,\n",
        "  38820.0,\n",
        "  65580.0,\n",
        "  36060.0,\n",
        "  14220.0,\n",
        "  6840.0,\n",
        "  69480.0,\n",
        "  33720.0,\n",
        "  151800.0,\n",
        "  4080.0,\n",
        "  36840.0,\n",
        "  228540.0,\n",
        "  7140.0,\n",
        "  5940.0,\n",
        "  300.0,\n",
        "  78000.0,\n",
        "  1020.0,\n",
        "  30540.0,\n",
        "  3300.0,\n",
        "  54720.0,\n",
        "  35400.0,\n",
        "  31140.0,\n",
        "  13920.0,\n",
        "  240.0,\n",
        "  58080.0,\n",
        "  2940.0,\n",
        "  45780.0,\n",
        "  180.0,\n",
        "  6720.0,\n",
        "  212040.0,\n",
        "  48900.0,\n",
        "  6540.0,\n",
        "  39960.0,\n",
        "  55860.0,\n",
        "  46200.0,\n",
        "  11520.0,\n",
        "  4680.0,\n",
        "  34500.0,\n",
        "  55020.0,\n",
        "  1440.0,\n",
        "  242040.0,\n",
        "  50340.0,\n",
        "  77400.0,\n",
        "  7380.0,\n",
        "  1200.0,\n",
        "  53880.0,\n",
        "  91020.0,\n",
        "  8880.0,\n",
        "  5870640.0,\n",
        "  33540.0,\n",
        "  38940.0,\n",
        "  138660.0,\n",
        "  120.0,\n",
        "  47700.0,\n",
        "  133140.0,\n",
        "  38520.0,\n",
        "  780.0,\n",
        "  4320.0,\n",
        "  47940.0,\n",
        "  900.0,\n",
        "  40200.0,\n",
        "  1980.0,\n",
        "  138420.0,\n",
        "  54840.0,\n",
        "  55800.0,\n",
        "  53220.0,\n",
        "  480.0,\n",
        "  34380.0,\n",
        "  62400.0,\n",
        "  4440.0,\n",
        "  960.0,\n",
        "  9360.0,\n",
        "  10020.0,\n",
        "  46800.0,\n",
        "  2040.0,\n",
        "  59100.0,\n",
        "  300.0,\n",
        "  48120.0,\n",
        "  9780.0,\n",
        "  660.0,\n",
        "  34440.0,\n",
        "  53820.0,\n",
        "  47580.0,\n",
        "  900.0,\n",
        "  5940.0,\n",
        "  2220.0,\n",
        "  19680.0,\n",
        "  5880.0,\n",
        "  95100.0,\n",
        "  6060.0,\n",
        "  120.0,\n",
        "  68340.0,\n",
        "  7620.0,\n",
        "  11400.0,\n",
        "  5580.0,\n",
        "  900.0,\n",
        "  840.0,\n",
        "  3540.0,\n",
        "  46800.0,\n",
        "  41880.0,\n",
        "  235620.0,\n",
        "  1200.0,\n",
        "  67080.0,\n",
        "  44640.0,\n",
        "  6300.0,\n",
        "  3240.0,\n",
        "  54420.0,\n",
        "  233280.0,\n",
        "  1478460.0,\n",
        "  5820.0,\n",
        "  47040.0,\n",
        "  60.0,\n",
        "  1860.0,\n",
        "  54180.0,\n",
        "  3720.0,\n",
        "  21000.0,\n",
        "  34380.0,\n",
        "  300.0,\n",
        "  6420.0,\n",
        "  56220.0,\n",
        "  1320.0,\n",
        "  5100.0,\n",
        "  2580.0,\n",
        "  38760.0,\n",
        "  34260.0,\n",
        "  300.0,\n",
        "  50400.0,\n",
        "  9540.0,\n",
        "  8940.0,\n",
        "  34080.0,\n",
        "  1860.0,\n",
        "  47820.0,\n",
        "  3180.0,\n",
        "  55020.0,\n",
        "  7080.0,\n",
        "  41220.0,\n",
        "  58620.0,\n",
        "  56340.0,\n",
        "  35700.0,\n",
        "  960.0,\n",
        "  52740.0,\n",
        "  900.0,\n",
        "  60.0,\n",
        "  3060.0,\n",
        "  126960.0,\n",
        "  2640.0,\n",
        "  53340.0,\n",
        "  2640.0,\n",
        "  53040.0,\n",
        "  7440.0,\n",
        "  35100.0,\n",
        "  62760.0,\n",
        "  32580.0,\n",
        "  300.0,\n",
        "  2040.0,\n",
        "  47100.0,\n",
        "  34440.0,\n",
        "  21120.0,\n",
        "  65640.0,\n",
        "  30240.0,\n",
        "  13320.0,\n",
        "  3540.0,\n",
        "  45540.0,\n",
        "  845400.0,\n",
        "  34560.0,\n",
        "  49020.0,\n",
        "  9180.0,\n",
        "  48660.0,\n",
        "  43380.0,\n",
        "  1560.0,\n",
        "  164460.0,\n",
        "  4380.0,\n",
        "  31320.0,\n",
        "  720.0,\n",
        "  63000.0,\n",
        "  42240.0,\n",
        "  780.0,\n",
        "  10140.0,\n",
        "  53760.0,\n",
        "  6960.0,\n",
        "  7380.0,\n",
        "  41160.0,\n",
        "  9300.0,\n",
        "  9540.0,\n",
        "  6060.0,\n",
        "  56040.0,\n",
        "  34320.0,\n",
        "  240.0,\n",
        "  840.0,\n",
        "  8760.0,\n",
        "  1800.0,\n",
        "  420.0,\n",
        "  15720.0,\n",
        "  42240.0,\n",
        "  34980.0,\n",
        "  47220.0,\n",
        "  7200.0,\n",
        "  49440.0,\n",
        "  422640.0,\n",
        "  688080.0,\n",
        "  858900.0,\n",
        "  46860.0,\n",
        "  21120.0,\n",
        "  40620.0,\n",
        "  15960.0,\n",
        "  1980.0,\n",
        "  9300.0,\n",
        "  30180.0,\n",
        "  94140.0,\n",
        "  7020.0,\n",
        "  51660.0,\n",
        "  2760.0,\n",
        "  11520.0,\n",
        "  660.0,\n",
        "  2100.0,\n",
        "  34320.0,\n",
        "  40200.0,\n",
        "  1260.0,\n",
        "  51720.0,\n",
        "  28860.0,\n",
        "  45000.0,\n",
        "  660.0,\n",
        "  43740.0,\n",
        "  117360.0,\n",
        "  37740.0,\n",
        "  2460.0,\n",
        "  31200.0,\n",
        "  44160.0,\n",
        "  6000.0,\n",
        "  360.0,\n",
        "  2460.0,\n",
        "  80880.0,\n",
        "  40560.0,\n",
        "  4740.0,\n",
        "  49740.0,\n",
        "  57720.0,\n",
        "  240.0,\n",
        "  2280.0,\n",
        "  230640.0,\n",
        "  55200.0,\n",
        "  9660.0,\n",
        "  62820.0,\n",
        "  1620.0,\n",
        "  8640.0,\n",
        "  6480.0,\n",
        "  3780.0,\n",
        "  61560.0,\n",
        "  27720.0,\n",
        "  55500.0,\n",
        "  60840.0,\n",
        "  46560.0,\n",
        "  1920.0,\n",
        "  62160.0,\n",
        "  64980.0,\n",
        "  900.0,\n",
        "  55680.0,\n",
        "  43500.0,\n",
        "  10380.0,\n",
        "  5700.0,\n",
        "  51120.0,\n",
        "  10740.0,\n",
        "  55980.0,\n",
        "  16260.0,\n",
        "  29880.0,\n",
        "  1320.0,\n",
        "  10080.0,\n",
        "  300.0,\n",
        "  5460.0,\n",
        "  3000.0,\n",
        "  55260.0,\n",
        "  50040.0,\n",
        "  16020.0,\n",
        "  58920.0,\n",
        "  52740.0,\n",
        "  120780.0,\n",
        "  111660.0,\n",
        "  300.0,\n",
        "  42120.0,\n",
        "  71400.0,\n",
        "  51600.0,\n",
        "  573960.0,\n",
        "  5820.0,\n",
        "  5520.0,\n",
        "  8820.0,\n",
        "  17700.0,\n",
        "  240.0,\n",
        "  54780.0,\n",
        "  2760.0,\n",
        "  8760.0,\n",
        "  26280.0,\n",
        "  61140.0,\n",
        "  21120.0,\n",
        "  3840.0,\n",
        "  48120.0,\n",
        "  54720.0,\n",
        "  86580.0,\n",
        "  780.0,\n",
        "  67440.0,\n",
        "  1020.0,\n",
        "  50820.0,\n",
        "  960.0,\n",
        "  120.0,\n",
        "  600.0,\n",
        "  4740.0,\n",
        "  33480.0,\n",
        "  180.0,\n",
        "  3000.0,\n",
        "  2880.0,\n",
        "  74820.0,\n",
        "  51720.0,\n",
        "  19500.0,\n",
        "  180.0,\n",
        "  63360.0,\n",
        "  1800.0,\n",
        "  38820.0,\n",
        "  17880.0,\n",
        "  600.0,\n",
        "  50280.0,\n",
        "  1800.0,\n",
        "  1800.0,\n",
        "  47580.0,\n",
        "  10500.0,\n",
        "  66060.0,\n",
        "  8940.0,\n",
        "  37740.0,\n",
        "  3780.0,\n",
        "  900.0,\n",
        "  32880.0,\n",
        "  12240.0,\n",
        "  240.0,\n",
        "  43620.0,\n",
        "  5460.0,\n",
        "  50880.0,\n",
        "  32280.0,\n",
        "  41640.0,\n",
        "  840.0,\n",
        "  108540.0,\n",
        "  1860.0,\n",
        "  15720.0,\n",
        "  180.0,\n",
        "  1200.0,\n",
        "  43140.0,\n",
        "  1860.0,\n",
        "  44940.0,\n",
        "  49200.0,\n",
        "  1140.0,\n",
        "  9300.0,\n",
        "  37500.0,\n",
        "  16260.0,\n",
        "  75360.0,\n",
        "  52140.0,\n",
        "  27240.0,\n",
        "  67980.0,\n",
        "  86880.0,\n",
        "  7560.0,\n",
        "  2794740.0,\n",
        "  5320560.0,\n",
        "  242160.0,\n",
        "  2090580.0,\n",
        "  7980.0,\n",
        "  2820.0,\n",
        "  7860.0,\n",
        "  1920.0,\n",
        "  3780.0,\n",
        "  1500.0,\n",
        "  52140.0,\n",
        "  1260.0,\n",
        "  38940.0,\n",
        "  1020.0,\n",
        "  47460.0,\n",
        "  58020.0,\n",
        "  43860.0,\n",
        "  237900.0,\n",
        "  2132280.0,\n",
        "  3087900.0,\n",
        "  60840.0,\n",
        "  65760.0,\n",
        "  51960.0,\n",
        "  300.0,\n",
        "  120.0,\n",
        "  2520.0,\n",
        "  70320.0,\n",
        "  24840.0,\n",
        "  1020.0,\n",
        "  138060.0,\n",
        "  44760.0,\n",
        "  36660.0,\n",
        "  37920.0,\n",
        "  30960.0,\n",
        "  1740.0,\n",
        "  47100.0,\n",
        "  82320.0,\n",
        "  32880.0,\n",
        "  8340.0,\n",
        "  120.0,\n",
        "  154080.0,\n",
        "  240.0,\n",
        "  9720.0,\n",
        "  39900.0,\n",
        "  60360.0,\n",
        "  720.0,\n",
        "  780.0,\n",
        "  1440.0,\n",
        "  6300.0,\n",
        "  240.0,\n",
        "  120.0,\n",
        "  2880.0,\n",
        "  4740.0,\n",
        "  120.0,\n",
        "  2400.0,\n",
        "  51300.0,\n",
        "  38820.0,\n",
        "  6780.0,\n",
        "  2160.0,\n",
        "  420.0,\n",
        "  240.0,\n",
        "  244680.0,\n",
        "  1800.0,\n",
        "  47040.0,\n",
        "  8700.0,\n",
        "  13560.0,\n",
        "  52800.0,\n",
        "  720.0,\n",
        "  66300.0,\n",
        "  50040.0,\n",
        "  8580.0,\n",
        "  47700.0,\n",
        "  85980.0,\n",
        "  8520.0,\n",
        "  6660.0,\n",
        "  4500.0,\n",
        "  4860.0,\n",
        "  31020.0,\n",
        "  31320.0,\n",
        "  840.0,\n",
        "  69420.0,\n",
        "  39360.0,\n",
        "  58380.0,\n",
        "  47400.0,\n",
        "  30900.0,\n",
        "  7800.0,\n",
        "  42420.0,\n",
        "  41880.0,\n",
        "  1191060.0,\n",
        "  42840.0,\n",
        "  60.0,\n",
        "  11040.0,\n",
        "  43500.0,\n",
        "  120.0,\n",
        "  2340.0,\n",
        "  80520.0,\n",
        "  13380.0,\n",
        "  21780.0,\n",
        "  74460.0,\n",
        "  22380.0,\n",
        "  8700.0,\n",
        "  54960.0,\n",
        "  88200.0,\n",
        "  44700.0,\n",
        "  60.0,\n",
        "  1920.0,\n",
        "  2640.0,\n",
        "  20340.0,\n",
        "  14280.0,\n",
        "  53940.0,\n",
        "  33600.0,\n",
        "  1140.0,\n",
        "  52980.0,\n",
        "  40800.0,\n",
        "  300.0,\n",
        "  35820.0,\n",
        "  51600.0,\n",
        "  53880.0,\n",
        "  142560.0,\n",
        "  2040.0,\n",
        "  64020.0,\n",
        "  56280.0,\n",
        "  2178540.0,\n",
        "  115920.0,\n",
        "  3360.0,\n",
        "  2040.0,\n",
        "  38640.0,\n",
        "  4440.0,\n",
        "  45720.0,\n",
        "  64560.0,\n",
        "  9060.0,\n",
        "  55260.0,\n",
        "  15600.0,\n",
        "  1200.0,\n",
        "  23160.0,\n",
        "  50040.0,\n",
        "  54000.0,\n",
        "  720.0,\n",
        "  720.0,\n",
        "  31020.0,\n",
        "  13920.0,\n",
        "  6180.0,\n",
        "  4200.0,\n",
        "  40800.0,\n",
        "  13020.0,\n",
        "  57600.0,\n",
        "  58320.0,\n",
        "  41400.0,\n",
        "  2760.0,\n",
        "  3360.0,\n",
        "  3240.0,\n",
        "  300.0,\n",
        "  5760.0,\n",
        "  15000.0,\n",
        "  33420.0,\n",
        "  922140.0,\n",
        "  237720.0,\n",
        "  820440.0,\n",
        "  2366340.0,\n",
        "  3060.0,\n",
        "  35340.0,\n",
        "  48000.0,\n",
        "  41100.0,\n",
        "  8280.0,\n",
        "  6300.0,\n",
        "  10020.0,\n",
        "  35460.0,\n",
        "  2100.0,\n",
        "  4440.0,\n",
        "  2280.0,\n",
        "  6840.0,\n",
        "  2940.0,\n",
        "  1260.0,\n",
        "  7380.0,\n",
        "  1740.0,\n",
        "  3240.0,\n",
        "  9780.0,\n",
        "  5760.0,\n",
        "  7920.0,\n",
        "  32280.0,\n",
        "  600420.0,\n",
        "  32880.0,\n",
        "  28680.0,\n",
        "  70140.0,\n",
        "  44520.0,\n",
        "  600.0,\n",
        "  11280.0,\n",
        "  41760.0,\n",
        "  34800.0,\n",
        "  13980.0,\n",
        "  22320.0,\n",
        "  3000.0,\n",
        "  360.0,\n",
        "  3960.0,\n",
        "  3180.0,\n",
        "  3420.0,\n",
        "  30120.0,\n",
        "  59940.0,\n",
        "  11700.0,\n",
        "  3960.0,\n",
        "  120.0,\n",
        "  33840.0,\n",
        "  56520.0,\n",
        "  5160.0,\n",
        "  2640.0,\n",
        "  35220.0,\n",
        "  44580.0,\n",
        "  2640.0,\n",
        "  41820.0,\n",
        "  50160.0,\n",
        "  10440.0,\n",
        "  42120.0,\n",
        "  10620.0,\n",
        "  44460.0,\n",
        "  2520.0,\n",
        "  46380.0,\n",
        "  1920.0,\n",
        "  120.0,\n",
        "  19260.0,\n",
        "  40740.0,\n",
        "  41100.0,\n",
        "  840.0,\n",
        "  10140.0,\n",
        "  41400.0,\n",
        "  28920.0,\n",
        "  420.0,\n",
        "  19800.0,\n",
        "  2160.0,\n",
        "  1920.0,\n",
        "  35280.0,\n",
        "  39540.0,\n",
        "  40080.0,\n",
        "  32280.0,\n",
        "  41520.0,\n",
        "  40140.0,\n",
        "  29220.0,\n",
        "  6840.0,\n",
        "  9120.0,\n",
        "  47700.0,\n",
        "  15840.0,\n",
        "  14040.0,\n",
        "  28440.0,\n",
        "  4440.0,\n",
        "  180.0,\n",
        "  7020.0,\n",
        "  4620.0,\n",
        "  2640.0,\n",
        "  44700.0,\n",
        "  45840.0,\n",
        "  6900.0,\n",
        "  33480.0,\n",
        "  1020.0,\n",
        "  1260.0,\n",
        "  45240.0,\n",
        "  3625560.0,\n",
        "  1349220.0,\n",
        "  1014780.0,\n",
        "  2136900.0,\n",
        "  1958640.0,\n",
        "  44280.0,\n",
        "  10440.0,\n",
        "  5640.0,\n",
        "  32400.0,\n",
        "  44220.0,\n",
        "  4500.0,\n",
        "  6660.0,\n",
        "  5940.0,\n",
        "  3780.0,\n",
        "  36360.0,\n",
        "  2400.0,\n",
        "  47160.0,\n",
        "  120.0,\n",
        "  40680.0,\n",
        "  73260.0,\n",
        "  4080.0,\n",
        "  1320.0,\n",
        "  29400.0,\n",
        "  1200.0,\n",
        "  16500.0,\n",
        "  4200.0,\n",
        "  25740.0,\n",
        "  1800.0,\n",
        "  48720.0,\n",
        "  57660.0,\n",
        "  1260.0,\n",
        "  720.0,\n",
        "  56460.0,\n",
        "  51060.0,\n",
        "  52380.0,\n",
        "  960.0,\n",
        "  158040.0,\n",
        "  39600.0,\n",
        "  5280.0,\n",
        "  40260.0,\n",
        "  2580.0,\n",
        "  5400.0,\n",
        "  4500.0,\n",
        "  3900.0,\n",
        "  1860.0,\n",
        "  660.0,\n",
        "  11400.0,\n",
        "  10440.0,\n",
        "  3540.0,\n",
        "  5700.0,\n",
        "  120.0,\n",
        "  17820.0,\n",
        "  ...]}"
       ]
      }
     ],
     "prompt_number": 79
    },
    {
     "cell_type": "code",
     "collapsed": false,
     "input": [],
     "language": "python",
     "metadata": {},
     "outputs": []
    }
   ],
   "metadata": {}
  }
 ]
}